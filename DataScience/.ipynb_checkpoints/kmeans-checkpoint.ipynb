{
 "cells": [
  {
   "cell_type": "markdown",
   "metadata": {},
   "source": [
    "# K-Means Clustering Example"
   ]
  },
  {
   "cell_type": "markdown",
   "metadata": {},
   "source": [
    "Let's make some fake data that includes people clustered by income and age, randomly:"
   ]
  },
  {
   "cell_type": "code",
   "execution_count": 1,
   "metadata": {
    "collapsed": false
   },
   "outputs": [],
   "source": [
    "from numpy import random, array\n",
    "\n",
    "#Create fake income/age clusters for N people in k clusters\n",
    "def createClusteredData(N, k):\n",
    "    random.seed(10)\n",
    "    pointsPerCluster = float(N)/k\n",
    "    X = []\n",
    "    for i in range (k):\n",
    "        incomeCentroid = random.uniform(20000.0, 200000.0)\n",
    "        ageCentroid = random.uniform(20.0, 70.0)\n",
    "        for j in range(int(pointsPerCluster)):\n",
    "            X.append([random.normal(incomeCentroid, 10000.0), random.normal(ageCentroid, 2.0)])\n",
    "    X = array(X)\n",
    "    return X"
   ]
  },
  {
   "cell_type": "markdown",
   "metadata": {},
   "source": [
    "We'll use k-means to rediscover these clusters in unsupervised learning:"
   ]
  },
  {
   "cell_type": "code",
   "execution_count": 7,
   "metadata": {
    "collapsed": false
   },
   "outputs": [
    {
     "name": "stdout",
     "output_type": "stream",
     "text": [
      "[2 2 2 2 2 2 2 2 2 2 2 2 2 2 2 2 2 2 2 2 1 1 1 1 1 1 1 1 1 1 1 1 1 1 1 1 1\n",
      " 1 1 1 0 0 0 0 0 0 0 0 0 0 0 0 0 0 0 0 0 0 0 0 3 3 3 3 3 3 3 3 3 3 3 3 3 3\n",
      " 3 3 3 3 3 3 0 0 0 0 0 0 0 0 0 0 0 0 0 0 0 0 0 0 0 0]\n"
     ]
    },
    {
     "data": {
      "image/png": "[encoded data removed]",
      "text/plain": [
       "<matplotlib.figure.Figure at 0x45d8cc0>"
      ]
     },
     "metadata": {},
     "output_type": "display_data"
    }
   ],
   "source": [
    "% matplotlib inline\n",
    "\n",
    "from sklearn.cluster import KMeans\n",
    "import matplotlib.pyplot as plt\n",
    "from sklearn.preprocessing import scale\n",
    "from numpy import random, float\n",
    "\n",
    "data = createClusteredData(100, 5)\n",
    "\n",
    "model = KMeans(n_clusters=4)\n",
    "\n",
    "# Note I'm scaling the data to normalize it! Important for good results.\n",
    "model = model.fit(scale(data))\n",
    "\n",
    "# We can look at the clusters each data point was assigned to\n",
    "print model.labels_ \n",
    "\n",
    "# And we'll visualize it:\n",
    "plt.figure(figsize=(8, 6))\n",
    "plt.scatter(data[:,0], data[:,1], c=model.labels_.astype(float))\n",
    "plt.show()"
   ]
  },
  {
   "cell_type": "markdown",
   "metadata": {},
   "source": [
    "## Activity"
   ]
  },
  {
   "cell_type": "markdown",
   "metadata": {},
   "source": [
    "Things to play with: what happens if you don't scale the data? What happens if you choose different values of K? In the real world, you won't know the \"right\" value of K to start with - you'll need to converge on it yourself."
   ]
  },
  {
   "cell_type": "code",
   "execution_count": null,
   "metadata": {
    "collapsed": false
   },
   "outputs": [],
   "source": []
  }
 ],
 "metadata": {
  "kernelspec": {
   "display_name": "Python 2",
   "language": "python",
   "name": "python2"
  },
  "language_info": {
   "codemirror_mode": {
    "name": "ipython",
    "version": 2
   },
   "file_extension": ".py",
   "mimetype": "text/x-python",
   "name": "python",
   "nbconvert_exporter": "python",
   "pygments_lexer": "ipython2",
   "version": "2.7.11"
  }
 },
 "nbformat": 4,
 "nbformat_minor": 0
}
